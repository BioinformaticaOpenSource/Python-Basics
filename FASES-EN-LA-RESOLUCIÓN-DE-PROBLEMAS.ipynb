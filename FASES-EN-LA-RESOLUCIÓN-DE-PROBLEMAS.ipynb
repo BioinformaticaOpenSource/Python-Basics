{
 "cells": [
  {
   "cell_type": "markdown",
   "id": "bb12ba53",
   "metadata": {},
   "source": [
    "# Metodología de la programación y desarrollo de software"
   ]
  },
  {
   "cell_type": "markdown",
   "id": "febc6486",
   "metadata": {},
   "source": [
    "## Resumen:\n",
    "\n",
    "En esta sección se realizará una descripción de los pasos para resolver un problema usando la programación. \n",
    "1.\tDefinición o análisis del problema.\n",
    "2.\tDiseño del algoritmo.\n",
    "3.\tTransformación del algoritmo en un programa.\n",
    "4.\tEjecución y validación del programa.\n",
    "\n",
    "Se recomienda consultar la bibliografía:\n",
    "\n",
    "Joyanes Aguilar, L. (2003). Fundamentos de programación: algoritmos y estructura de datos y objetos.\n"
   ]
  },
  {
   "attachments": {},
   "cell_type": "markdown",
   "id": "bb887967",
   "metadata": {},
   "source": [
    "## 1.0 FASES EN LA RESOLUCIÓN DE PROBLEMAS\n",
    "\n",
    "El proceso de resolución de un problema con una computadora conduce a la escritura de un programa y a su ejecución\n",
    "en la misma. Aunque el proceso de diseñar programas es, esencialmente, un proceso creativo, se puede considerar\n",
    "una serie de fases o pasos comunes, que generalmente deben seguir todos los programa dores.\n",
    "\n",
    "Las fases de resolución de un problema con computadora son:\n",
    "\n",
    "    • Análisis del problema.\n",
    "    • Diseño del algoritmo.\n",
    "    • Codificación.\n",
    "    • Compilación y ejecución.\n",
    "    • Verificación.\n",
    "    • Depuración.\n",
    "    • Mantenimiento.\n",
    "    • Documentación.\n",
    "Las características más sobresalientes de la resolución de problemas son:\n",
    "\n",
    "• **Análisis.** El problema se analiza teniendo presente la especificación de los requisitos dados por el cliente de la\n",
    "empresa o por la persona que encarga el programa.\n",
    "\n",
    "• **Diseño.** Una vez analizado el problema, se diseña una solución que conducirá a un **algoritmo** que resuelva el\n",
    "problema.\n",
    "\n",
    "• **Codificación (implementación).** La solución se escribe en la sintaxis del lenguaje de alto nivel (por ejemplo,\n",
    "Pascal) y se obtiene un programa fuente que se compila a continuación.\n",
    "\n",
    "• **Ejecución, verificación y depuración.** El programa se ejecuta, se comprueba rigurosamente y se eliminan todos\n",
    "los errores (denominados “bugs”, en inglés) que puedan aparecer.\n",
    "\n",
    "• **Mantenimiento.** El programa se actualiza y modifica, cada vez que sea necesario, de modo que se cumplan\n",
    "todas las necesidades de cambio de sus usuarios.\n",
    "\n",
    "• **Documentación.** Escritura de las diferentes fases del ciclo de vida del software, esencialmente el análisis, diseño\n",
    "y codificación, unidos a manuales de usuario y de referencia, así como normas para el mantenimiento."
   ]
  },
  {
   "attachments": {},
   "cell_type": "markdown",
   "id": "c39dc08f",
   "metadata": {},
   "source": [
    "### 1.1 Diseño del algoritmo\n",
    "\n",
    "En la etapa de análisis del proceso de programación se determina qué hace el programa. En la etapa de diseño se determina\n",
    "cómo hace el programa la tarea solicitada. Los métodos más eficaces para el proceso de diseño se basan en el\n",
    "conocido divide y vencerás. Es decir, la resolución de un problema complejo se realiza dividiendo el problema en\n",
    "subproblemas y a continuación dividiendo estos subproblemas en otros de nivel más bajo, hasta que pueda ser implementada\n",
    "una solución en la computadora. Este método se conoce técnicamente como diseño descendente (top-down)\n",
    "o modular. El proceso de romper el problema en cada etapa y expresar cada paso en forma más detallada se denomina\n",
    "refinamiento sucesivo.\n",
    "\n"
   ]
  },
  {
   "cell_type": "markdown",
   "id": "0664b4d8",
   "metadata": {},
   "source": [
    "### 1.2 Herramientas de programación\n",
    "\n",
    "Las dos herramientas más utilizadas comúnmente para diseñar algoritmos son: diagramas de flujo y pseudocódigos.\n",
    "\n",
    "    1. Un diagrama de flujo (flowchart) es una representación gráfica de un algoritmo. Los símbolos utilizados han sido\n",
    "    normalizados por el Instituto Norteamericano de Normalización (ANSI)\n",
    "    \n",
    "    2. El pseudocódigo es una herramienta de programación en la que las instrucciones se escriben en palabras similares\n",
    "    al inglés o español, que facilitan tanto la escritura como la lectura de programas.\n",
    "   \n"
   ]
  },
  {
   "cell_type": "markdown",
   "id": "93ea79ee",
   "metadata": {},
   "source": [
    "### 1.3 Codificación de un programa\n",
    "\n",
    "La codificación es la escritura en un lenguaje de programación de la representación del algoritmo desarrollada en las\n",
    "etapas precedentes. Dado que el diseño de un algoritmo es independiente del lenguaje de progra mación utilizado para\n",
    "su implementación, el código puede ser escrito con igual facilidad en un lenguaje o en otro."
   ]
  },
  {
   "cell_type": "markdown",
   "id": "c7779819",
   "metadata": {},
   "source": [
    "### 1.4 Compilación y ejecución de un programa\n",
    "\n",
    "Una vez que el algoritmo se ha convertido en un programa fuente, es preciso introducirlo en memoria mediante el\n",
    "teclado y almacenarlo posteriormente en un disco. Esta operación se realiza con un programa editor. Posteriormente\n",
    "el programa fuente se convierte en un archivo de programa que se guarda (graba) en disco."
   ]
  },
  {
   "cell_type": "markdown",
   "id": "f03e2177",
   "metadata": {},
   "source": [
    "### 1.5 Verificación y depuración de un programa\n",
    "\n",
    "**La verificación o compilación** de un programa es el proceso de ejecución del programa con una amplia variedad de\n",
    "datos de entrada, llamados datos de test o prueba, que determinarán si el programa tiene o no errores (“bugs”). Para\n",
    "realizar la verificación se debe desarrollar una amplia gama de datos de test: valores normales de entrada, valores\n",
    "extremos de entrada que comprueben los límites del programa y valores de entrada que comprueben aspectos especiales\n",
    "del programa.\n",
    "\n",
    "**La depuración** es el proceso de encontrar los errores del programa y corregir o eliminar dichos errores.\n",
    "\n",
    "    1. Errores de compilación. Se producen normalmente por un uso incorrecto de las reglas del lenguaje de programación\n",
    "    y suelen ser errores de sintaxis. Si existe un error de sintaxis, la computadora no puede comprender\n",
    "    la instrucción, no se obtendrá el programa objeto y el compilador imprimirá una lista de todos los errores\n",
    "    encontrados durante la compilación.\n",
    "    \n",
    "    2. Errores de ejecución. Estos errores se producen por instrucciones que la computadora puede comprender pero\n",
    "    no ejecutar. Ejemplos típicos son: división por cero y raíces cuadradas de números negativos. En estos casos\n",
    "    se detiene la ejecución del programa y se imprime un mensaje de error.\n",
    "    \n",
    "    3. Errores lógicos. Se producen en la lógica del programa y la fuente del error suele ser el diseño del algoritmo.\n",
    "    Estos errores son los más difíciles de detectar, ya que el programa puede funcionar y no producir errores de\n",
    "    compilación ni de ejecución, y sólo puede advertirse el error por la obtención de resultados incorrectos. En\n",
    "    este caso se debe volver a la fase de diseño del algoritmo, modificar el algoritmo, cambiar el programa fuente\n",
    "    y compilar y ejecutar una vez más.\n"
   ]
  },
  {
   "cell_type": "markdown",
   "id": "da1a04ed",
   "metadata": {},
   "source": [
    "### 1.6 Documentación y mantenimiento\n",
    "\n",
    "La documentación de un problema consta de las descripciones de los pasos a dar en el proceso de resolución de dicho\n",
    "problema. La importancia de la documentación debe ser destacada por su decisiva influencia en el producto final.\n",
    "Programas pobremente documentados son difíciles de leer, más difíciles de depurar y casi imposibles de mantener y\n",
    "modificar."
   ]
  },
  {
   "cell_type": "code",
   "execution_count": null,
   "id": "1596ce4f",
   "metadata": {},
   "outputs": [],
   "source": []
  }
 ],
 "metadata": {
  "kernelspec": {
   "display_name": "Python 3 (ipykernel)",
   "language": "python",
   "name": "python3"
  },
  "language_info": {
   "codemirror_mode": {
    "name": "ipython",
    "version": 3
   },
   "file_extension": ".py",
   "mimetype": "text/x-python",
   "name": "python",
   "nbconvert_exporter": "python",
   "pygments_lexer": "ipython3",
   "version": "3.10.7"
  }
 },
 "nbformat": 4,
 "nbformat_minor": 5
}
