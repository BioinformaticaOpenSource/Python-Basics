{
 "cells": [
  {
   "cell_type": "markdown",
   "id": "797b937c",
   "metadata": {},
   "source": [
    "# 3.0 Variables simples\n",
    "\n",
    "En matemáticas y en lógica, una variable es un símbolo constituyente de un predicado, fórmula, algoritmo o de una proposición. El término «variable» se utiliza aun fuera del ámbito matemático para designar una cantidad susceptible de tomar distintos valores numéricos dentro de un conjunto de números especificado.1\n",
    "\n",
    "Por el contrario, una constante es un valor que no cambia (aunque puede no ser conocido, o indeterminado). En este contexto, debe diferenciarse de una constante matemática, que es una magnitud numérica específica, independientemente de la naturaleza del problema dado. \n",
    "\n",
    "https://es.wikipedia.org/wiki/Variable_(matem%C3%A1tica)\n",
    "\n",
    "***NOTA***\n",
    "\n",
    "En Python no se pueden declarar constantes, ya que Python es un lenguaje con tipificación dinámica.\n",
    "\n"
   ]
  },
  {
   "cell_type": "markdown",
   "id": "d24728e1",
   "metadata": {},
   "source": [
    "## 3.1 Tipos y definicion de vairables simples\n",
    "\n",
    "\n",
    "Las variables simples almacenan un solo valor en el caso de números, pero en caso de letras, pueden ser de un único valor (“a”) o una cadena de texto (“Esto es una cadena de texto”).\n",
    "\n",
    "Hay una consideración importante en estos tipos de variables imples:\n",
    "\n",
    "    1.\tPueden cambiar su valor por medio de una asignación (signo =) en cualquier lugar del programa\n",
    "    2.\tLas variables simples no permiten la iterar sobre ellas, salvo las cadenas de texto (<class 'str'>) esas si se pueden iterar\n",
    "\n",
    "***Definir Variables***\n",
    "\n",
    "Valor, tipo, identidad\n",
    "\n",
    "a = 7\n",
    "\n",
    "En Python lo que ocurre al ejecutar la sentencia o instrucción a = 7 es que se crea primero un objeto con el VALOR 7 de TIPO int y se ubica en un lugar de memoria. Este lugar de memoria se denomina en Python IDENTIDAD del objeto. Luego, la acción de asignar 7 a la variable a hará que este nombre o identificador se asocie o refiere a la dirección de memoria del objeto 7, o sea, a tendrá la misma identidad que 7.\n",
    "\n",
    "La acción de asignación se usa para darle a una variable un valor determinado. En Python la acción de asignación de valores a una variable quiere decir que la variable con su nombre determinado se va a asociar al valor de la derecha de la asignación:\n"
   ]
  },
  {
   "cell_type": "code",
   "execution_count": 3,
   "id": "9f6b2b44",
   "metadata": {},
   "outputs": [],
   "source": [
    "var_Int = 1                     # Esta linea representa una variable entero 1,2,3,4...n   no admite: 1.2, 1.5\n",
    "var_Float = 2.5                 # Esta lina admite variables tipo racional 1.5, 1.6,..n    \n",
    "var_bolena = True               # TRUE = 1 FALSE = 0\n",
    "var_Char = \"a\"                  # Esta es una vabriable de tipo simple pero con letras, y estas deben estar entre comillas\n",
    "var_String = \"Hello World\"      # Esta es una vabriable de tipo simple pero con texto, y estas deben estar entre comillas"
   ]
  },
  {
   "cell_type": "markdown",
   "id": "f932c05f",
   "metadata": {},
   "source": [
    "## 3.2 Indentificando el tipo de variable\n",
    "\n",
    "Hay ocasiones que no sabemos que tipo dato esta albergando nuestra variables. Es por eso por lo que usamos la función:\n",
    "\n",
    "type(colocar aquí la variable)\n",
    "\n",
    "Para visualizar el resultado de la función “type()” tenemos que incluirla en la función “print()”, ya que esta nos sirve par amostrar datos en consola"
   ]
  },
  {
   "cell_type": "code",
   "execution_count": 8,
   "id": "f52522c5",
   "metadata": {},
   "outputs": [
    {
     "name": "stdout",
     "output_type": "stream",
     "text": [
      "<class 'int'>\n",
      "<class 'float'>\n",
      "<class 'bool'>\n",
      "<class 'str'>\n",
      "<class 'str'>\n"
     ]
    }
   ],
   "source": [
    "print(type(var_Int))  \n",
    "print(type(var_Float)) \n",
    "print(type(var_bolena))\n",
    "print(type(var_Char))\n",
    "print(type(var_String))"
   ]
  },
  {
   "cell_type": "markdown",
   "id": "4baf6056",
   "metadata": {},
   "source": [
    "# 3.3 Operaciones con variables simples\n",
    "\n",
    "***Asignaciones***\n",
    "\n",
    "Debido a que Python es de tipificación dinámica, las variables pueden ser reasignadas por medio de una asignación “=”. \n",
    "\n",
    "Debido a que Python es de tipificación dinámica, las variables pueden ser reasignadas por medio de una asignación “=”.  Esto quiere decir que si se realiza una operación y el resultado es asignado a una variable que antes fue definida, esta cambiar al valor asignado aunque no sea del mismo valor que tenia.\n",
    "\n",
    "var_Int2 fue definida como INT (integer), pero al sumarle un numero racional (FLOAT) el resultado de la suma sera otro numero racional y este sera asignado a la variable, por lo que el tu po de variable cambiara.\n",
    "\n",
    "NOTA\n",
    "\n",
    "Tambien se pueden cambiar el contenido de una variables entre numeros y letras\n"
   ]
  },
  {
   "cell_type": "code",
   "execution_count": 11,
   "id": "7f62e7b8",
   "metadata": {},
   "outputs": [
    {
     "name": "stdout",
     "output_type": "stream",
     "text": [
      "<class 'int'>\n",
      "<class 'float'>\n",
      "<class 'str'>\n"
     ]
    }
   ],
   "source": [
    "\n",
    "var_Int2 = 1\n",
    "print(type(var_Int2))\n",
    "\n",
    "var_Int2 = var_Int2 + 2.5   # 2.5 es im valor racional\n",
    "print(type(var_Int2))\n",
    "\n",
    "var_Int2 = \"cambio\"\n",
    "print(type(var_Int2))\n",
    "\n"
   ]
  },
  {
   "attachments": {
    "image.png": {
     "image/png": "[encoded data removed]"
    }
   },
   "cell_type": "markdown",
   "id": "f201a82d",
   "metadata": {},
   "source": [
    "***Precedencia Y Asociatividad De Operadores En Python***\n",
    "\n",
    "Cuando se trata de operadores en Python, tenemos que conocer el concepto de precedencia y asociatividad de los operadores de Python, ya que estos determinan las prioridades del operador; de lo contrario, veremos resultados inesperados.\n",
    "\n",
    "***Precedencia del operador:*** se utiliza en una expresión con más de un operador con diferente precedencia para determinar qué operación realizar primero.\n",
    "\n",
    "\n",
    "\n",
    "***Jerarquia de operaciones***\n",
    "\n",
    "    1. Parentesis\n",
    "    2. Exponentes\n",
    "    3. Multiplicacion y division\n",
    "    4. Suma y resta\n",
    "    5. Resto cociente (modulo)\n",
    "    6. Operadores de desicion\n",
    "    7. Operador logico NOT\n",
    "    8. Operador logico AND\n",
    "    9. Operador logico OR\n",
    "    \n",
    "\n",
    "***Asociatividad del operador:*** si una expresión contiene dos o más operadores con la misma precedencia, se utiliza la asociatividad del operador para determinar. Puede ser de izquierda a derecha o de derecha a izquierda.\n",
    "\n",
    "![image.png](attachment:image.png)\n"
   ]
  },
  {
   "cell_type": "code",
   "execution_count": 22,
   "id": "c92e501e",
   "metadata": {},
   "outputs": [
    {
     "name": "stdout",
     "output_type": "stream",
     "text": [
      "···················   Resultados esperados  ································\n",
      "-9\n",
      "0\n",
      "-31\n",
      "0.0\n",
      "9\n",
      "···················  Resultados con paretesis ······························\n",
      "-9\n",
      "0\n",
      "-31\n",
      "0.0\n",
      "9\n"
     ]
    }
   ],
   "source": [
    "operacion1 = 2 + 7 // 3 * 2 - 15\n",
    "operacion2 = 32 % 4 + 12 - 4 * 3\n",
    "operacion3 = 42 // 8 - 3 * 14 + 6\n",
    "operacion4 = 24/5**2 - 0.96\n",
    "operacion5 = 3 * 5 % 4 + 11 // 4 * 3\n",
    "\n",
    "print(\"···················   Resultados esperados  ································\")\n",
    "print(operacion1)\n",
    "print(operacion2)\n",
    "print(operacion3)\n",
    "print(operacion4)\n",
    "print(operacion5)\n",
    "\n",
    "\n",
    "print(\"···················  Resultados con paretesis ······························\")\n",
    "Mario = (2 + ((7 // 3) * 2)) - 15\n",
    "Alma = ((32 % 4) + 12) - (4 * 3)\n",
    "Angel = ((42 // 8) - (3 * 14)) + 6\n",
    "Rulo = (24/(5**2)) - 0.96\n",
    "valiente = ((3 * 5) % 4) + ((11 // 4) * 3)\n",
    "\n",
    "print(Mario)\n",
    "print(Alma)\n",
    "print(Angel)\n",
    "print(Rulo)\n",
    "print(valiente)"
   ]
  },
  {
   "cell_type": "code",
   "execution_count": null,
   "id": "5078aa07",
   "metadata": {},
   "outputs": [],
   "source": []
  }
 ],
 "metadata": {
  "kernelspec": {
   "display_name": "Python 3 (ipykernel)",
   "language": "python",
   "name": "python3"
  },
  "language_info": {
   "codemirror_mode": {
    "name": "ipython",
    "version": 3
   },
   "file_extension": ".py",
   "mimetype": "text/x-python",
   "name": "python",
   "nbconvert_exporter": "python",
   "pygments_lexer": "ipython3",
   "version": "3.10.7"
  }
 },
 "nbformat": 4,
 "nbformat_minor": 5
}
